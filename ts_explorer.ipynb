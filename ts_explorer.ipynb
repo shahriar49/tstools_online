{
 "cells": [
  {
   "cell_type": "markdown",
   "metadata": {},
   "source": [
    "## Notebook for training data collection for measures"
   ]
  },
  {
   "cell_type": "code",
   "execution_count": 7,
   "metadata": {},
   "outputs": [],
   "source": [
    "import tstools.pyccd as pyccd\n",
    "import ipywidgets\n",
    "from ipywidgets import HBox, VBox, Box, HTML\n",
    "import ee"
   ]
  },
  {
   "cell_type": "code",
   "execution_count": 8,
   "metadata": {},
   "outputs": [
    {
     "data": {
      "application/vnd.jupyter.widget-view+json": {
       "model_id": "8df82cfdc1e94c369a0aa636b8bac4a5",
       "version_major": 2,
       "version_minor": 0
      },
      "text/plain": [
       "HTML(value='<style>.container { width:100% !important; }</style>')"
      ]
     },
     "metadata": {},
     "output_type": "display_data"
    }
   ],
   "source": [
    "# Allow Jupyter display to be 100% the width of the browser\n",
    "display(ipywidgets.HTML('<style>.container { width:100% !important; }</style>'))"
   ]
  },
  {
   "cell_type": "code",
   "execution_count": 9,
   "metadata": {},
   "outputs": [],
   "source": [
    "# Authenticate to the Earth Engine servers, and initialize the ee module.\n",
    "ee.Initialize()"
   ]
  },
  {
   "cell_type": "code",
   "execution_count": 10,
   "metadata": {},
   "outputs": [],
   "source": [
    "# Instantiate a time series explorer class\n",
    "pnb = pyccd.ts_explorer()"
   ]
  },
  {
   "cell_type": "code",
   "execution_count": 11,
   "metadata": {},
   "outputs": [],
   "source": [
    "# Organize all the pieces\n",
    "_display = VBox([HTML(value=\"<b>DISPLAY OPTIONS</b>\"),pnb.image_band_1, pnb.image_band_2, \n",
    "                    pnb.image_band_3, pnb.stretch_min,\n",
    "                    pnb.stretch_max, pnb.color_check])\n",
    "\n",
    "_ts = VBox([HTML(value=\"<b>CLICKED TS</b>\"),pnb.band_selector2, pnb.ylim2, pnb.xlim2, pnb.pyccd_button2, pnb.clear_layers])\n",
    "\n",
    "ts_tab = HBox([_ts, _display])\n",
    "\n",
    "# Tabulate the different boxes\n",
    "interp_tab = ipywidgets.Tab(children=[ts_tab], layout=ipywidgets.Layout(width='50%', min_height='400px', max_height='400px'))\n",
    "interp_tab.set_title(0, 'Controls')\n",
    "\n",
    "# Time series plots\n",
    "fig = ipywidgets.Tab(children=[pnb.fig2, pnb.fig3])\n",
    "fig.set_title(0, 'Clicked TS')\n",
    "fig.set_title(1, 'Sample DOY')\n",
    "\n",
    "# Put the boxes together\n",
    "controls = HBox([pnb.m, interp_tab])\n",
    "\n",
    "# Put the boxes with the time series\n",
    "tabfig = VBox([controls, fig])"
   ]
  },
  {
   "cell_type": "code",
   "execution_count": 12,
   "metadata": {
    "scrolled": false
   },
   "outputs": [
    {
     "data": {
      "application/vnd.jupyter.widget-view+json": {
       "model_id": "e3cdc3a7138b4ba8953fbf60173df466",
       "version_major": 2,
       "version_minor": 0
      },
      "text/plain": [
       "VBox(children=(HBox(children=(Map(basemap={'url': 'http://server.arcgisonline.com/ArcGIS/rest/services/World_S…"
      ]
     },
     "metadata": {},
     "output_type": "display_data"
    }
   ],
   "source": [
    "display(tabfig)"
   ]
  },
  {
   "cell_type": "code",
   "execution_count": 13,
   "metadata": {},
   "outputs": [
    {
     "data": {
      "text/html": [
       "<div>\n",
       "<style scoped>\n",
       "    .dataframe tbody tr th:only-of-type {\n",
       "        vertical-align: middle;\n",
       "    }\n",
       "\n",
       "    .dataframe tbody tr th {\n",
       "        vertical-align: top;\n",
       "    }\n",
       "\n",
       "    .dataframe thead th {\n",
       "        text-align: right;\n",
       "    }\n",
       "</style>\n",
       "<table border=\"1\" class=\"dataframe\">\n",
       "  <thead>\n",
       "    <tr style=\"text-align: right;\">\n",
       "      <th></th>\n",
       "    </tr>\n",
       "  </thead>\n",
       "  <tbody>\n",
       "  </tbody>\n",
       "</table>\n",
       "</div>"
      ],
      "text/plain": [
       "Empty DataFrame\n",
       "Columns: []\n",
       "Index: []"
      ]
     },
     "execution_count": 13,
     "metadata": {},
     "output_type": "execute_result"
    }
   ],
   "source": [
    "pnb.click_df\n"
   ]
  }
 ],
 "metadata": {
  "kernelspec": {
   "display_name": "Python 3",
   "language": "python",
   "name": "python3"
  },
  "language_info": {
   "codemirror_mode": {
    "name": "ipython",
    "version": 3
   },
   "file_extension": ".py",
   "mimetype": "text/x-python",
   "name": "python",
   "nbconvert_exporter": "python",
   "pygments_lexer": "ipython3",
   "version": "3.6.6"
  }
 },
 "nbformat": 4,
 "nbformat_minor": 2
}
